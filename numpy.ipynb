{
 "cells": [
  {
   "cell_type": "code",
   "execution_count": 1,
   "metadata": {},
   "outputs": [
    {
     "data": {
      "text/plain": [
       "array([ 1,  2,  6, -3,  0,  5, -4])"
      ]
     },
     "execution_count": 1,
     "metadata": {},
     "output_type": "execute_result"
    }
   ],
   "source": [
    "# Quick start\n",
    "\n",
    "import numpy as np\n",
    "x = np.array([1, 2, 6, -3, 0, 5, -4])\n",
    "x"
   ]
  },
  {
   "cell_type": "code",
   "execution_count": 2,
   "metadata": {},
   "outputs": [
    {
     "name": "stdout",
     "output_type": "stream",
     "text": [
      "[ 2  3  7 -2  1  6 -3]\n",
      "[  3   6  18  -9   0  15 -12]\n"
     ]
    }
   ],
   "source": [
    "# Simple numpy.array math\n",
    "\n",
    "print(x + 1)\n",
    "print(x * 3)"
   ]
  },
  {
   "cell_type": "code",
   "execution_count": 3,
   "metadata": {},
   "outputs": [
    {
     "name": "stdout",
     "output_type": "stream",
     "text": [
      "[0 1 2 3 4 5 6 7 8 9]\n",
      "[0.  0.1 0.2 0.3 0.4 0.5 0.6 0.7 0.8 0.9 1. ]\n",
      "[1.e+00 1.e+01 1.e+02 1.e+03 1.e+04 1.e+05]\n",
      "3.141592653589793\n",
      "2.718281828459045\n",
      "0.3010299956639812\n",
      "0.49999999999999994\n"
     ]
    }
   ],
   "source": [
    "# Useful functions\n",
    "\n",
    "print(np.arange(10))\n",
    "print(np.linspace(0, 1, 11))\n",
    "print(np.logspace(0, 5, 6))\n",
    "print(np.pi)\n",
    "print(np.e)\n",
    "print(np.log10(2))\n",
    "print(np.sin(np.pi/6))"
   ]
  },
  {
   "cell_type": "code",
   "execution_count": 4,
   "metadata": {},
   "outputs": [
    {
     "name": "stdout",
     "output_type": "stream",
     "text": [
      "[[1 2 3]\n",
      " [4 5 6]]\n",
      "(2, 3)\n",
      "2\n",
      "6\n",
      "int32\n",
      "[[1 4]\n",
      " [2 5]\n",
      " [3 6]]\n"
     ]
    }
   ],
   "source": [
    "# Matrices\n",
    "\n",
    "x = np.array([[1, 2, 3], [4, 5, 6]])\n",
    "print(x)\n",
    "print(x.shape)\n",
    "print(x.ndim)\n",
    "print(x.size)\n",
    "print(x.dtype)\n",
    "print(x.T)"
   ]
  },
  {
   "cell_type": "code",
   "execution_count": 5,
   "metadata": {},
   "outputs": [
    {
     "name": "stdout",
     "output_type": "stream",
     "text": [
      "6\n",
      "6\n"
     ]
    }
   ],
   "source": [
    "# array methods example\n",
    "\n",
    "print(x.max())\n",
    "print(np.max(x))"
   ]
  },
  {
   "cell_type": "code",
   "execution_count": 6,
   "metadata": {},
   "outputs": [
    {
     "name": "stdout",
     "output_type": "stream",
     "text": [
      "[10 20 30 40 50 60 70 80 90]\n",
      "[90 80 70 60 50 40 30 20 10  0]\n",
      "[ 0 20 80 10]\n",
      "[60 70 80 90]\n"
     ]
    }
   ],
   "source": [
    "# Vectorization\n",
    "\n",
    "r = np.arange(10) * 10\n",
    "print(r[1:])\n",
    "print(r[::-1])\n",
    "print(r[[0, 2, 8, 1]])\n",
    "print(r[ r > 55 ])"
   ]
  },
  {
   "cell_type": "code",
   "execution_count": 7,
   "metadata": {},
   "outputs": [
    {
     "name": "stdout",
     "output_type": "stream",
     "text": [
      "[[3 1 5]\n",
      " [6 7 1]]\n",
      "[[6 7 4]\n",
      " [5 3 4]]\n",
      "[[ 9  8  9]\n",
      " [11 10  5]]\n",
      "[[18  7 20]\n",
      " [30 21  4]]\n"
     ]
    }
   ],
   "source": [
    "# Random data and matrix algebra\n",
    "\n",
    "y1 = np.int64(np.random.random([2, 3]) * 10)\n",
    "y2 = np.int64(np.random.random([2, 3]) * 10)\n",
    "print(y1)\n",
    "print(y2)\n",
    "print(y1 + y2)\n",
    "print(y1 * y2)"
   ]
  },
  {
   "cell_type": "code",
   "execution_count": 8,
   "metadata": {},
   "outputs": [
    {
     "name": "stdout",
     "output_type": "stream",
     "text": [
      "b'\\x08\\x00\\x07\\x00\\x06\\x00\\x05\\x00\\x04\\x00\\x03\\x00\\x02\\x00\\x01\\x00'\n"
     ]
    },
    {
     "name": "stderr",
     "output_type": "stream",
     "text": [
      "c:\\users\\elibo\\.virtualenvs\\adv-python-course-dtvwex1r\\lib\\site-packages\\ipykernel_launcher.py:5: DeprecationWarning: The binary mode of fromstring is deprecated, as it behaves surprisingly on unicode inputs. Use frombuffer instead\n",
      "  \"\"\"\n"
     ]
    }
   ],
   "source": [
    "# Saving and loading to binary strings\n",
    "\n",
    "x = np.arange(8, 0, -1, dtype=np.int16)\n",
    "blob = x.tostring()\n",
    "y = np.fromstring(blob, dtype=np.int16)\n",
    "print(blob)\n",
    "assert (x == y).all()"
   ]
  },
  {
   "cell_type": "markdown",
   "metadata": {},
   "source": [
    "The `scipy` package has much more useful algorithms, including:\n",
    "- linear algebra methods (least-squares fitting)\n",
    "- differential equations solvers\n",
    "- numerical optimization\n",
    "- FFT\n",
    "- signal processing (DSP)\n",
    "- statistics\n",
    "- image processing\n",
    "\n",
    "Please look at http://docs.scipy.org/doc/scipy/reference/tutorial/index.html"
   ]
  },
  {
   "cell_type": "code",
   "execution_count": null,
   "metadata": {},
   "outputs": [],
   "source": []
  }
 ],
 "metadata": {
  "kernelspec": {
   "display_name": "Python 3",
   "language": "python",
   "name": "python3"
  },
  "language_info": {
   "codemirror_mode": {
    "name": "ipython",
    "version": 3
   },
   "file_extension": ".py",
   "mimetype": "text/x-python",
   "name": "python",
   "nbconvert_exporter": "python",
   "pygments_lexer": "ipython3",
   "version": "3.7.2"
  }
 },
 "nbformat": 4,
 "nbformat_minor": 1
}
