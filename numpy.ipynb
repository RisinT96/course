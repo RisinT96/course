{
 "metadata": {
  "name": ""
 },
 "nbformat": 3,
 "nbformat_minor": 0,
 "worksheets": [
  {
   "cells": [
    {
     "cell_type": "code",
     "collapsed": false,
     "input": [
      "# Quick start\n",
      "\n",
      "import numpy as np\n",
      "x = np.array([1, 2, 6, -3, 0, 5, -4])\n",
      "x"
     ],
     "language": "python",
     "metadata": {},
     "outputs": [
      {
       "metadata": {},
       "output_type": "pyout",
       "prompt_number": 1,
       "text": [
        "array([ 1,  2,  6, -3,  0,  5, -4])"
       ]
      }
     ],
     "prompt_number": 1
    },
    {
     "cell_type": "code",
     "collapsed": false,
     "input": [
      "# Simple numpy.array math\n",
      "\n",
      "print(x + 1)\n",
      "print(x * 3)"
     ],
     "language": "python",
     "metadata": {},
     "outputs": [
      {
       "output_type": "stream",
       "stream": "stdout",
       "text": [
        "[ 2  3  7 -2  1  6 -3]\n",
        "[  3   6  18  -9   0  15 -12]\n"
       ]
      }
     ],
     "prompt_number": 2
    },
    {
     "cell_type": "code",
     "collapsed": false,
     "input": [
      "# Useful functions\n",
      "\n",
      "print(np.arange(10))\n",
      "print(np.linspace(0, 1, 11))\n",
      "print(np.logspace(0, 5, 6))\n",
      "print(np.pi)\n",
      "print(np.e)\n",
      "print(np.log10(2))\n",
      "print(np.sin(np.pi/6))"
     ],
     "language": "python",
     "metadata": {},
     "outputs": [
      {
       "output_type": "stream",
       "stream": "stdout",
       "text": [
        "[0 1 2 3 4 5 6 7 8 9]\n",
        "[ 0.   0.1  0.2  0.3  0.4  0.5  0.6  0.7  0.8  0.9  1. ]\n",
        "[  1.00000000e+00   1.00000000e+01   1.00000000e+02   1.00000000e+03\n",
        "   1.00000000e+04   1.00000000e+05]\n",
        "3.141592653589793\n",
        "2.718281828459045\n",
        "0.301029995664\n",
        "0.5\n"
       ]
      }
     ],
     "prompt_number": 3
    },
    {
     "cell_type": "code",
     "collapsed": false,
     "input": [
      "# Matrices\n",
      "\n",
      "x = np.array([[1, 2, 3], [4, 5, 6]])\n",
      "print(x)\n",
      "print(x.shape)\n",
      "print(x.ndim)\n",
      "print(x.size)\n",
      "print(x.dtype)\n",
      "print(x.T)"
     ],
     "language": "python",
     "metadata": {},
     "outputs": [
      {
       "output_type": "stream",
       "stream": "stdout",
       "text": [
        "[[1 2 3]\n",
        " [4 5 6]]\n",
        "(2, 3)\n",
        "2\n",
        "6\n",
        "int64\n",
        "[[1 4]\n",
        " [2 5]\n",
        " [3 6]]\n"
       ]
      }
     ],
     "prompt_number": 4
    },
    {
     "cell_type": "code",
     "collapsed": false,
     "input": [
      "# array methods example\n",
      "\n",
      "print(x.max())\n",
      "print(np.max(x))"
     ],
     "language": "python",
     "metadata": {},
     "outputs": [
      {
       "output_type": "stream",
       "stream": "stdout",
       "text": [
        "6\n",
        "6\n"
       ]
      }
     ],
     "prompt_number": 5
    },
    {
     "cell_type": "code",
     "collapsed": false,
     "input": [
      "# Vectorization\n",
      "\n",
      "r = np.arange(10) * 10\n",
      "print(r[1:])\n",
      "print(r[::-1])\n",
      "print(r[[0, 2, 8, 1]])\n",
      "print(r[ r > 55 ])"
     ],
     "language": "python",
     "metadata": {},
     "outputs": [
      {
       "output_type": "stream",
       "stream": "stdout",
       "text": [
        "[10 20 30 40 50 60 70 80 90]\n",
        "[90 80 70 60 50 40 30 20 10  0]\n",
        "[ 0 20 80 10]\n",
        "[60 70 80 90]\n"
       ]
      }
     ],
     "prompt_number": 6
    },
    {
     "cell_type": "code",
     "collapsed": false,
     "input": [
      "# Random data and matrix algebra\n",
      "\n",
      "y1 = np.int64(np.random.random([2, 3]) * 10)\n",
      "y2 = np.int64(np.random.random([2, 3]) * 10)\n",
      "print(y1)\n",
      "print(y2)\n",
      "print(y1 + y2)\n",
      "print(y1 * y2)"
     ],
     "language": "python",
     "metadata": {},
     "outputs": [
      {
       "output_type": "stream",
       "stream": "stdout",
       "text": [
        "[[6 5 8]\n",
        " [3 2 3]]\n",
        "[[1 2 7]\n",
        " [4 3 6]]\n",
        "[[ 7  7 15]\n",
        " [ 7  5  9]]\n",
        "[[ 6 10 56]\n",
        " [12  6 18]]\n"
       ]
      }
     ],
     "prompt_number": 7
    },
    {
     "cell_type": "code",
     "collapsed": false,
     "input": [
      "# Saving and loading to binary strings\n",
      "\n",
      "x = np.arange(8, 0, -1, dtype=np.int16)\n",
      "blob = x.tostring()\n",
      "y = np.fromstring(blob, dtype=np.int16)\n",
      "print(blob)\n",
      "assert (x == y).all()"
     ],
     "language": "python",
     "metadata": {},
     "outputs": [
      {
       "output_type": "stream",
       "stream": "stdout",
       "text": [
        "b'\\x08\\x00\\x07\\x00\\x06\\x00\\x05\\x00\\x04\\x00\\x03\\x00\\x02\\x00\\x01\\x00'\n"
       ]
      }
     ],
     "prompt_number": 8
    },
    {
     "cell_type": "markdown",
     "metadata": {},
     "source": [
      "The `scipy` package have much more useful algorithms, including:\n",
      "- linear algebra methods (least-squares fitting)\n",
      "- differential equations solvers\n",
      "- numerical optimization\n",
      "- FFT\n",
      "- signal processing (DSP)\n",
      "- statistics\n",
      "- image processing\n",
      "\n",
      "Please look at http://docs.scipy.org/doc/scipy/reference/tutorial/index.html"
     ]
    },
    {
     "cell_type": "code",
     "collapsed": false,
     "input": [],
     "language": "python",
     "metadata": {},
     "outputs": [],
     "prompt_number": 8
    }
   ],
   "metadata": {}
  }
 ]
}